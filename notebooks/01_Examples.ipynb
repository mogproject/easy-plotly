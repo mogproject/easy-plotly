{
 "cells": [
  {
   "cell_type": "markdown",
   "id": "eac5e097-2fc7-4887-bbe6-c18cd89b46ef",
   "metadata": {},
   "source": [
    "## Import the `easy_plotly` module"
   ]
  },
  {
   "cell_type": "code",
   "execution_count": null,
   "id": "13d3d88d-6ec6-4ff6-a338-f4891372c96a",
   "metadata": {},
   "outputs": [],
   "source": [
    "import easy_plotly as ep"
   ]
  },
  {
   "cell_type": "code",
   "execution_count": null,
   "id": "f167e8da-d2dd-478b-b664-17976b3e9911",
   "metadata": {},
   "outputs": [],
   "source": [
    "fig = ep.PlotlyFigure('../templates/scatter.yml', x_title='Feature X', y_title='Feature Y')\n",
    "fig.add_scatter([2, 2, 3, 6, 10], [1, 2, 4, 10, 12], 'Type I', ['a', 'b', 'c', 'd', 'e'], 0)\n",
    "fig.add_scatter([2, 3, 10, 12, 20], [2, 9, 8, 7, 8], 'Type II', ['a', 'b', 'c', 'd', 'e'], 1)\n",
    "fig.add_scatter([3, 7, 8, 6, 15], [10, 12, 32, 22, 40], 'Type II', ['a', 'b', 'c', 'd', 'e'], 2)\n",
    "fig.show()"
   ]
  },
  {
   "cell_type": "code",
   "execution_count": null,
   "id": "0e2142ce-60b5-423c-87a6-4c24847eebd9",
   "metadata": {},
   "outputs": [],
   "source": []
  }
 ],
 "metadata": {
  "kernelspec": {
   "display_name": "Python 3 (ipykernel)",
   "language": "python",
   "name": "python3"
  },
  "language_info": {
   "codemirror_mode": {
    "name": "ipython",
    "version": 3
   },
   "file_extension": ".py",
   "mimetype": "text/x-python",
   "name": "python",
   "nbconvert_exporter": "python",
   "pygments_lexer": "ipython3",
   "version": "3.9.12"
  }
 },
 "nbformat": 4,
 "nbformat_minor": 5
}
