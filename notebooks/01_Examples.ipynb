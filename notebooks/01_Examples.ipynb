{
 "cells": [
  {
   "cell_type": "markdown",
   "id": "eac5e097-2fc7-4887-bbe6-c18cd89b46ef",
   "metadata": {
    "tags": []
   },
   "source": [
    "### Import the `easy_plotly` module"
   ]
  },
  {
   "cell_type": "code",
   "execution_count": null,
   "id": "13d3d88d-6ec6-4ff6-a338-f4891372c96a",
   "metadata": {
    "tags": []
   },
   "outputs": [],
   "source": [
    "import easy_plotly as ep"
   ]
  },
  {
   "cell_type": "markdown",
   "id": "7b40271c-d6ca-45d1-9547-a765d75453d3",
   "metadata": {},
   "source": [
    "### Scatter Plots"
   ]
  },
  {
   "cell_type": "code",
   "execution_count": null,
   "id": "f167e8da-d2dd-478b-b664-17976b3e9911",
   "metadata": {},
   "outputs": [],
   "source": [
    "fig = ep.PlotlyFigure('../templates/scatter.yml', x_title='Factor X', y_title='Factor Y')\n",
    "\n",
    "fig.add_scatter([2, 2, 3, 6, 10], [1, 2, 4, 10, 12], 'Type I', ['a', 'b', 'c', 'd', 'e'], 0)\n",
    "fig.add_scatter([2, 3, 10, 12, 20], [2, 9, 8, 7, 8], 'Type II', ['a', 'b', 'c', 'd', 'e'], 1)\n",
    "fig.add_scatter([3, 7, 8, 6, 15], [10, 12, 32, 22, 40], 'Type III', ['a', 'b', 'c', 'd', 'e'], 2)\n",
    "fig.add_scatter([2, 6, 7, 5, 14], [9, 11, 31, 21, 39], 'Type IV', ['a', 'b', 'c', 'd', 'e'], 3)\n",
    "fig.add_scatter([4, 8, 9, 7, 16], [11, 13, 31, 23, 39], 'Type V', ['a', 'b', 'c', 'd', 'e'], 4)\n",
    "fig.show()"
   ]
  },
  {
   "cell_type": "markdown",
   "id": "d967f424-9747-4ea2-a6c0-ffa5dc4a2cc7",
   "metadata": {},
   "source": [
    "### Line Charts"
   ]
  },
  {
   "cell_type": "code",
   "execution_count": null,
   "id": "66eedd01-2ec1-47b9-8e09-7d1281391c9c",
   "metadata": {},
   "outputs": [],
   "source": [
    "from math import log\n",
    "\n",
    "xs = [10 ** i for i in range(1, 30)]\n",
    "def func(n):\n",
    "    return 1 if n <= 2 else func(2 * n / 3) + 1\n",
    "\n",
    "fig = ep.PlotlyFigure('../templates/line.yml', title='Function growth', x_title=r'$\\large n$', y_title=r'$\\large f(n)$')\n",
    "\n",
    "fig.add_scatter(xs, [func(x) for x in xs], r'$T(n)$', template=0)\n",
    "fig.add_scatter(xs, [3 * log(x) for x in xs], r'$3 \\log n$', template=2)\n",
    "fig.add_scatter(xs, [2 * log(x) for x in xs], r'$2 \\log n$', template=4)\n",
    "fig.to_png(show=True)"
   ]
  },
  {
   "cell_type": "markdown",
   "id": "cc3799ff-aeb8-46cc-b219-129bc411b3f3",
   "metadata": {},
   "source": [
    "### Bar Charts"
   ]
  },
  {
   "cell_type": "code",
   "execution_count": null,
   "id": "f43ce9bf-3dba-4023-b667-077cceca8520",
   "metadata": {},
   "outputs": [],
   "source": [
    "fig = ep.PlotlyFigure('../templates/bar.yml', x_title='Factor X', y_title='Factor Y')\n",
    "\n",
    "fig.add_bar(x=['A', 'B', 'C', 'D', 'E', 'F'], y=[20, 14, 23, 3, 18, 19], name='XX', template=4)\n",
    "fig.add_bar(x=['A', 'B', 'C', 'D', 'E', 'F'], y=[17, 17, 10, 5, 11, 13], name='YY', text=[17, 17, 10, 5, 11, 13], template=3)\n",
    "fig.show()"
   ]
  },
  {
   "cell_type": "code",
   "execution_count": null,
   "id": "9d0e8570-6942-4eb7-b22f-a7d58572caa6",
   "metadata": {},
   "outputs": [],
   "source": [
    "fig = ep.PlotlyFigure('../templates/bar.yml', x_title='Factor X', y_title='Factor Y')\n",
    "\n",
    "fig.add_bar(x=[[100, 100, 100, 200, 200, 200], ['A', 'B', 'C', 'A', 'B', 'C']], y=[20, 14, 23, 3, 18, 19], name='XX', template=4)\n",
    "fig.add_bar(x=[[100, 100, 100, 200, 200, 200], ['A', 'B', 'C', 'A', 'B', 'C']], y=[17, 17, 10, 5, 11, 13], name='YY', text=[17, 17, 10, 5, 11, 13], template=3)\n",
    "fig.show()"
   ]
  },
  {
   "cell_type": "markdown",
   "id": "623489a2-49a2-461c-948d-81855060e9f5",
   "metadata": {},
   "source": [
    "### Box Plots"
   ]
  },
  {
   "cell_type": "code",
   "execution_count": null,
   "id": "df76a10e-e075-4895-bd4f-4111cfbba1e6",
   "metadata": {},
   "outputs": [],
   "source": [
    "from random import Random\n",
    "\n",
    "rand = Random(12345)\n",
    "fig = ep.PlotlyFigure('../templates/box.yml', x_title='Algorithm', y_title='Value')\n",
    "fig.add_box(x=['rand'] * 100, y=[rand.random() for _ in range(100)], template=0)\n",
    "fig.add_box(x=['avg'] * 100, y=[(rand.random() + rand.random()) / 2 for _ in range(100)], template=1)\n",
    "fig.add_box(x=['sqrt'] * 100, y=[(rand.random() * rand.random()) ** 0.5 for _ in range(100)], template=2)\n",
    "fig.show()"
   ]
  },
  {
   "cell_type": "code",
   "execution_count": null,
   "id": "b60cd036-b002-4cb3-85df-a1bdbfface5c",
   "metadata": {},
   "outputs": [],
   "source": []
  },
  {
   "cell_type": "markdown",
   "id": "7c7ec977-816e-4100-be68-f683196e6181",
   "metadata": {},
   "source": [
    "### Violin Plots"
   ]
  },
  {
   "cell_type": "code",
   "execution_count": null,
   "id": "e7835cf0-49b1-4acb-9dfe-73ffc159098c",
   "metadata": {},
   "outputs": [],
   "source": [
    "rand = Random(12345)\n",
    "n = 1000\n",
    "fig = ep.PlotlyFigure('../templates/violin.yml', x_title='Algorithm', y_title='Value')\n",
    "fig.add_violin(x=['rand'] * n, y=[rand.random() for _ in range(n)], template=0)\n",
    "fig.add_violin(x=['avg'] * n, y=[(rand.random() + rand.random()) / 2 for _ in range(n)], template=1)\n",
    "fig.add_violin(x=['sqrt'] * n, y=[(rand.random() * rand.random()) ** 0.5 for _ in range(n)], template=2)\n",
    "fig.show()"
   ]
  },
  {
   "cell_type": "code",
   "execution_count": null,
   "id": "ac9e3493-25fc-4a49-ab08-000405727b6f",
   "metadata": {},
   "outputs": [],
   "source": []
  },
  {
   "cell_type": "markdown",
   "id": "a5e4183f-383a-45f2-be55-19c87e3f6885",
   "metadata": {},
   "source": [
    "### Mixed Plots"
   ]
  },
  {
   "cell_type": "code",
   "execution_count": null,
   "id": "3328b4aa-5943-46d1-91cc-edfc06baf4e4",
   "metadata": {},
   "outputs": [],
   "source": [
    "xs = [10 ** i for i in range(1, 9)]\n",
    "xxs = [10 ** i for i in range(1, 9) for _ in range(3)]\n",
    "\n",
    "fig = ep.PlotlyFigure('../templates/mixed.yml', title='Function growth', x_title=r'$\\large n$', y_title=r'$\\large f(n)$')\n",
    "\n",
    "rand = Random(12345)\n",
    "fig.add_scatter(xs, [3 * log(x) for x in xs], r'$3 \\log n$', template=0)\n",
    "fig.add_scatter(xs, [2 * log(x) for x in xs], r'$2 \\log n$', template=1)\n",
    "fig.add_violin(xxs, [3 * log(x) * (1 + (rand.random() - 0.5) / 10) for x in xxs], template=10)\n",
    "fig.add_violin(xxs, [2 * log(x) * (1 + (rand.random() - 0.5) / 10) for x in xxs], template=11)\n",
    "# fig.show()\n",
    "fig.to_png(show=True)"
   ]
  },
  {
   "cell_type": "code",
   "execution_count": null,
   "id": "ef82e4d9-3b3d-4e29-ad09-00a49e92ef97",
   "metadata": {},
   "outputs": [],
   "source": []
  }
 ],
 "metadata": {
  "kernelspec": {
   "display_name": "Python 3 (ipykernel)",
   "language": "python",
   "name": "python3"
  },
  "language_info": {
   "codemirror_mode": {
    "name": "ipython",
    "version": 3
   },
   "file_extension": ".py",
   "mimetype": "text/x-python",
   "name": "python",
   "nbconvert_exporter": "python",
   "pygments_lexer": "ipython3",
   "version": "3.9.12"
  }
 },
 "nbformat": 4,
 "nbformat_minor": 5
}
